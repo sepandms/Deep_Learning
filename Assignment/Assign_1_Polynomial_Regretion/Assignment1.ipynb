{
 "cells": [
  {
   "cell_type": "markdown",
   "id": "6487fc5c-1435-4ec6-8e98-7d7df3b60c58",
   "metadata": {},
   "source": [
    "# **Import necessary libraries**"
   ]
  },
  {
   "cell_type": "code",
   "execution_count": 1,
   "id": "b729bf0b-87b2-409b-9c05-f642be5bdb4c",
   "metadata": {},
   "outputs": [],
   "source": [
    "import numpy as np\n",
    "import torch\n",
    "import torch.nn as nn\n",
    "import torch.optim as optim\n",
    "import matplotlib.pyplot as plt\n",
    "import seaborn as sn\n",
    "import torch.nn.functional as F\n",
    "import warnings\n",
    "warnings.filterwarnings('ignore')"
   ]
  },
  {
   "cell_type": "markdown",
   "id": "6e6e43f3-1c1d-4cd1-9719-a8b6f986c3f7",
   "metadata": {},
   "source": [
    "# **Question 1 --> Develop the code for Data Sets Creation**"
   ]
  },
  {
   "cell_type": "code",
   "execution_count": 2,
   "id": "bb53d005-430e-4188-9d90-d715c5ac932d",
   "metadata": {},
   "outputs": [],
   "source": [
    "def create_datasets (W,x_range,sample_size,sigma,seed):\n",
    "    random_state=np.random.RandomState(seed)\n",
    "    x=random_state.uniform(x_range[0],x_range[1],size=sample_size)\n",
    "    X=np.zeros((sample_size,W.shape[0]))\n",
    "    for i in range(sample_size):\n",
    "        X[i,0]=1;\n",
    "        for j in range(1,W.shape[0]):\n",
    "            X[i,j]=x[i]**j;\n",
    "        y=X.dot(W)\n",
    "        y_no_noise=y.copy()\n",
    "        if sigma > 0:\n",
    "                y+=random_state.normal(0,sigma,sample_size)\n",
    "    return X, y, x, y_no_noise"
   ]
  },
  {
   "cell_type": "markdown",
   "id": "b6d275fd-8233-4d9c-842d-5b29ea1440e9",
   "metadata": {},
   "source": [
    "# **Question 2 --> Generating Training and validation samples based on different seeds**"
   ]
  },
  {
   "cell_type": "markdown",
   "id": "ce57b7fe-14f5-4de0-b649-40c80fc0b2bd",
   "metadata": {},
   "source": [
    "# **Training data set**"
   ]
  },
  {
   "cell_type": "code",
   "execution_count": 3,
   "id": "50046f0e-04ad-4ce3-9a0b-b5062502c30a",
   "metadata": {},
   "outputs": [],
   "source": [
    "seed=0\n",
    "sample_size_tr=100\n",
    "x_range=[-3,2]\n",
    "sigma=0.5\n",
    "W=np.array([-8,-4,2,1])\n",
    "\n",
    "X_t , y_t , x_t , y_no_noise_t = create_datasets(W,x_range,sample_size_tr,sigma,seed)"
   ]
  },
  {
   "cell_type": "code",
   "execution_count": 4,
   "id": "f3e0cabc-e9c1-4c91-bd43-6b3e906f43c4",
   "metadata": {},
   "outputs": [
    {
     "data": {
      "text/plain": [
       "(4,)"
      ]
     },
     "execution_count": 4,
     "metadata": {},
     "output_type": "execute_result"
    }
   ],
   "source": [
    "W.shape"
   ]
  },
  {
   "cell_type": "code",
   "execution_count": 4,
   "id": "672fb796-353c-4cb7-9afc-e20e038fe3b2",
   "metadata": {},
   "outputs": [
    {
     "name": "stdout",
     "output_type": "stream",
     "text": [
      "x: random sample values in the interval --> the shape is:  (100,)\n",
      "--------------------------------------------------------------------\n",
      "X: values of X^i for each sample point --> the shape is:  (100, 4)\n",
      "--------------------------------------------------------------------\n",
      "Y: values of the polynomial based on x and X applying also the randome noise --> the shape is:  (100,)\n"
     ]
    }
   ],
   "source": [
    "print('x: random sample values in the interval --> the shape is: ',x_t.shape)\n",
    "print('--------------------------------------------------------------------')\n",
    "print('X: values of X^i for each sample point --> the shape is: ',X_t.shape)\n",
    "print('--------------------------------------------------------------------')\n",
    "print('Y: values of the polynomial based on x and X applying also the randome noise --> the shape is: ',y_t.shape)"
   ]
  },
  {
   "cell_type": "markdown",
   "id": "f746ded2-7aac-4f2a-97e1-b0f293364335",
   "metadata": {},
   "source": [
    "# **Validation data set**"
   ]
  },
  {
   "cell_type": "code",
   "execution_count": 5,
   "id": "ae2e18c7-dfaa-425c-98b2-920921a56920",
   "metadata": {},
   "outputs": [],
   "source": [
    "seed=1\n",
    "sample_size_val=100\n",
    "x_range=[-3,2]\n",
    "sigma=0.5\n",
    "W=np.array([-8,-4,2,1])"
   ]
  },
  {
   "cell_type": "code",
   "execution_count": 6,
   "id": "682ac141-7e36-497e-ac9d-39d945c901c7",
   "metadata": {},
   "outputs": [],
   "source": [
    "X_v , y_v , x_v , y_no_noise_v = create_datasets(W,x_range,sample_size_val,sigma,seed)"
   ]
  },
  {
   "cell_type": "markdown",
   "id": "630167c0-fc7c-4b40-8cf8-0dedc64e8e70",
   "metadata": {},
   "source": [
    "# **Section 3 --> Ploting 2D Training and Validation Data**"
   ]
  },
  {
   "cell_type": "markdown",
   "id": "87eb12a8-c24c-48e3-978f-b15c9d044240",
   "metadata": {},
   "source": [
    "**Training Data**"
   ]
  },
  {
   "cell_type": "code",
   "execution_count": 7,
   "id": "b7dd6586-fc99-4bd5-85b0-bb6c6f6620d0",
   "metadata": {},
   "outputs": [
    {
     "data": {
      "text/plain": [
       "<matplotlib.legend.Legend at 0x7f4203184700>"
      ]
     },
     "execution_count": 7,
     "metadata": {},
     "output_type": "execute_result"
    },
    {
     "data": {
      "image/png": "[encoded data removed]",
      "text/plain": [
       "<Figure size 432x288 with 1 Axes>"
      ]
     },
     "metadata": {
      "needs_background": "light"
     },
     "output_type": "display_data"
    }
   ],
   "source": [
    "plt.subplots(figsize=(6,4))\n",
    "plt.xlabel(\"X\", fontsize = 16)\n",
    "plt.ylabel(\"Y\", fontsize = 16)\n",
    "plt.title('Training Data (Simg:0.5, seed=0 and size=100)')\n",
    "\n",
    "sn.lineplot(x_t,y_t, color='blue', linewidth=2.5,legend='auto')\n",
    "sn.lineplot(x_t,y_no_noise_t, color='red')\n",
    "\n",
    "plt.plot(x_t, y_t, 'bo', label='Train Data')\n",
    "plt.plot(x_t, y_no_noise_t,'ro', label='Predicted')\n",
    "\n",
    "plt.legend(['Y (with noise)','Y (without noise)'])"
   ]
  },
  {
   "cell_type": "markdown",
   "id": "03f79848-355f-4465-a388-7f64d27b00b0",
   "metadata": {},
   "source": [
    "**Validation Data**"
   ]
  },
  {
   "cell_type": "code",
   "execution_count": 118,
   "id": "98aba03c-3459-4afe-a322-0b5cd187ff45",
   "metadata": {},
   "outputs": [
    {
     "data": {
      "text/plain": [
       "<matplotlib.legend.Legend at 0x7f2485292e50>"
      ]
     },
     "execution_count": 118,
     "metadata": {},
     "output_type": "execute_result"
    },
    {
     "data": {
      "image/png": "[encoded data removed]",
      "text/plain": [
       "<Figure size 432x288 with 1 Axes>"
      ]
     },
     "metadata": {
      "needs_background": "light"
     },
     "output_type": "display_data"
    }
   ],
   "source": [
    "plt.subplots(figsize=(6,4))\n",
    "plt.xlabel(\"X\", fontsize = 16)\n",
    "plt.ylabel(\"Y\", fontsize = 16)\n",
    "plt.title('Validation Data (Simg:0.5, seed=1 and size=100)')\n",
    "\n",
    "sn.lineplot(x_v,y_v, color='blue', linewidth=2.5,legend='auto')\n",
    "sn.lineplot(x_v,y_no_noise_v, color='red')\n",
    "\n",
    "plt.plot(x_v, y_v, 'bo', label='Train Data')\n",
    "plt.plot(x_v, y_no_noise_v,'ro', label='Predicted')\n",
    "\n",
    "plt.legend(['Y (with noise)','Y (without noise)'])"
   ]
  },
  {
   "cell_type": "markdown",
   "id": "f0959205-ee57-4422-afbd-8998f0dd5594",
   "metadata": {},
   "source": [
    "# **Question 5 to 8: Polynomial regression --> model creation and Training**"
   ]
  },
  {
   "cell_type": "markdown",
   "id": "68bf6021-48ae-4e57-9df9-eea5a5aad94c",
   "metadata": {},
   "source": [
    "**Data Preparation for training the model**"
   ]
  },
  {
   "cell_type": "code",
   "execution_count": 119,
   "id": "572ec245-5478-4a86-8f43-faee4bffae8c",
   "metadata": {},
   "outputs": [],
   "source": [
    "X_train_w4 = torch.from_numpy(X_t).float()\n",
    "X_val_w4 = torch.from_numpy(X_v).float()\n",
    "\n",
    "b_t , X_train_w3 = torch.split(torch.from_numpy(X_t).float(), [1,3], dim=1)\n",
    "b_val , X_val_w3 = torch.split(torch.from_numpy(X_v).float(), [1,3], dim=1)\n",
    "\n",
    "Y_train = torch.from_numpy(y_t.reshape((sample_size_tr , 1))).float()\n",
    "Y_val = torch.from_numpy(y_v.reshape((sample_size_val , 1))).float()\n",
    "# y_real = torch.from_numpy(y_no_noise_t.reshape((sample_size , 1))).float()"
   ]
  },
  {
   "cell_type": "markdown",
   "id": "925146d7-b1ca-491c-85c7-83425528d859",
   "metadata": {},
   "source": [
    "# **Polynomial Info**"
   ]
  },
  {
   "cell_type": "code",
   "execution_count": 120,
   "id": "e7a2f9ba-db5c-4285-83a9-b6a14bc7fdcc",
   "metadata": {},
   "outputs": [
    {
     "name": "stdout",
     "output_type": "stream",
     "text": [
      "\u001b[1m  y = -8.0 + -4.0 * x + 2.0 * x^2 + 1.0 * x^3\n"
     ]
    }
   ],
   "source": [
    "W_fun = torch.FloatTensor([-8, -4, 2, 1]).unsqueeze(1) # Add Second Dimension\n",
    "y_function = ' y = {} + {} * x + {} * x^2 + {} * x^3'.format(W_fun[0][0],W_fun[1][0],W_fun[2][0], W_fun[3][0])\n",
    "print( '\\033[1m', y_function)"
   ]
  },
  {
   "cell_type": "markdown",
   "id": "4f0d4558-d46e-49dc-b587-41bccb936707",
   "metadata": {},
   "source": [
    "# **A class for training the NN polynomial  models**"
   ]
  },
  {
   "cell_type": "code",
   "execution_count": 121,
   "id": "5efec76a-32ad-4d72-a324-75dfe0d35164",
   "metadata": {},
   "outputs": [],
   "source": [
    "class Model_Training:\n",
    "    \n",
    "    losses_values = np.empty(shape=[0])\n",
    "    iterations = np.empty(shape=[0])\n",
    "    \n",
    "    def __init__(self, model, loss_func, optimizer, Learning_Rate, nr_itereration, X_train, Y_train, X_valid ,Y_valid, loss_rate_target):\n",
    "        \n",
    "        self.model = model\n",
    "        self.loss_func = loss_func\n",
    "        self.opt = optimizer\n",
    "        self.LR = Learning_Rate\n",
    "        self.nr_iter = nr_itereration\n",
    "        self.X_train = X_train\n",
    "        self.Y_train = Y_train\n",
    "        self.X_valid = X_valid\n",
    "        self.Y_valid = Y_valid\n",
    "        self.loss_rate_target = loss_rate_target\n",
    "                 \n",
    "    def train(self):\n",
    "        \n",
    "        model = self.model \n",
    "        loss_func = self.loss_func \n",
    "        opt = self.opt \n",
    "        LR = self.LR \n",
    "        nr_iter = self.nr_iter \n",
    "        X_train = self.X_train \n",
    "        Y_train = self.Y_train \n",
    "        loss_rate_target = self.loss_rate_target\n",
    "        \n",
    "        for i in range(1, self.nr_iter + 1):\n",
    "            # Forward pass\n",
    "            y_pred = model(X_train)\n",
    "            loss = loss_func(y_pred, Y_train)\n",
    "            # Reset gradients\n",
    "            opt.zero_grad()\n",
    "            # Backward pass\n",
    "            loss.backward()\n",
    "            self.losses_values = np.append(self.losses_values,loss.data)\n",
    "            self.iterations = np.append(self.iterations, i)\n",
    "            loss_rate = 0.1\n",
    "            if i > 1 :\n",
    "                loss_rate = (self.losses_values[i-2]-self.losses_values[i-1])/self.losses_values[i-2]\n",
    "            # update parameters\n",
    "            opt.step()\n",
    "            if  i == 10 :\n",
    "                print('nr_iter : {}  loss : {}'.format(i,loss.data))\n",
    "            if  -loss_rate_target< loss_rate < loss_rate_target:\n",
    "                print('nr_iter : {}  loss : {}'.format(i,loss.data))\n",
    "                print('------------------------------------')\n",
    "                print('In the nr_iter : {}  the model optained a loos rate of : {} which is minor than {}'.format(i,loss_rate,loss_rate_target))\n",
    "                break             \n",
    "        return model.state_dict().items()"
   ]
  },
  {
   "cell_type": "markdown",
   "id": "120b9de4-ccf2-4567-a82b-73998531a148",
   "metadata": {},
   "source": [
    "# **Model 1: considering 4 entry elemnts for weights/input data without Bias**"
   ]
  },
  {
   "cell_type": "code",
   "execution_count": 122,
   "id": "fddb31ec-f382-4769-ba2f-ee5d348434bf",
   "metadata": {},
   "outputs": [],
   "source": [
    "model_ = nn.Linear(4,1, bias=False)\n",
    "Learning_Rate = 1e-3\n",
    "nr_itereration = 20000\n",
    "loss_rate_target = 1e-8\n",
    "loss_func  =  nn.MSELoss()\n",
    "optimizer  =  optim.SGD(model_.parameters(),  lr=Learning_Rate)\n",
    "\n",
    "X_train = X_train_w4\n",
    "Y_train = Y_train\n",
    "X_valid = X_val_w4\n",
    "Y_valid = Y_val\n",
    "\n",
    "model_1_W4_no_bias = Model_Training( model_, loss_func, optimizer, Learning_Rate, nr_itereration, X_train, Y_train, X_valid, Y_valid, loss_rate_target)"
   ]
  },
  {
   "cell_type": "code",
   "execution_count": 123,
   "id": "2945f849-ffe7-413d-b830-1fe1a1804e71",
   "metadata": {},
   "outputs": [
    {
     "name": "stdout",
     "output_type": "stream",
     "text": [
      "nr_iter : 10  loss : 28.476076126098633\n",
      "nr_iter : 10821  loss : 0.20682819187641144\n",
      "------------------------------------\n",
      "In the nr_iter : 10821  the model optained a loos rate of : 0.0 which is minor than 1e-08\n"
     ]
    },
    {
     "data": {
      "text/plain": [
       "odict_items([('weight', tensor([[-7.9901, -4.0373,  2.0538,  1.0275]]))])"
      ]
     },
     "execution_count": 123,
     "metadata": {},
     "output_type": "execute_result"
    }
   ],
   "source": [
    "model_1_W4_no_bias.train()"
   ]
  },
  {
   "cell_type": "markdown",
   "id": "2ad592ad-49b8-49cf-a9ee-a43c1e0203ad",
   "metadata": {},
   "source": [
    "**Validation of the model**"
   ]
  },
  {
   "cell_type": "code",
   "execution_count": 124,
   "id": "716403d2-432b-415e-9181-5a319a168cd3",
   "metadata": {},
   "outputs": [
    {
     "name": "stdout",
     "output_type": "stream",
     "text": [
      "for Model 1 the loss value for training data is \u001b[1m + 0.20682783424854279 and the loss value for validation data is 0.19246892631053925\n"
     ]
    }
   ],
   "source": [
    "M_class = model_1_W4_no_bias\n",
    "\n",
    "y_pred_val = M_class.model(M_class.X_valid)\n",
    "y_pred_train = M_class.model(M_class.X_train)\n",
    "loss_of_validation = M_class.loss_func( y_pred_val, M_class.Y_valid )\n",
    "loss_of_training = M_class.loss_func( y_pred_train, M_class.Y_train )\n",
    "print('for Model 1 the loss value for training data is \\033[1m + {} and the loss value for validation data is {}'.format(loss_of_training,loss_of_validation))"
   ]
  },
  {
   "cell_type": "code",
   "execution_count": 125,
   "id": "b178abf7-6afa-454f-9062-485376934690",
   "metadata": {},
   "outputs": [
    {
     "data": {
      "image/png": "[encoded data removed]",
      "text/plain": [
       "<Figure size 432x288 with 1 Axes>"
      ]
     },
     "metadata": {
      "needs_background": "light"
     },
     "output_type": "display_data"
    }
   ],
   "source": [
    "M_class = model_1_W4_no_bias\n",
    "\n",
    "plt.subplots(figsize=(6,4))\n",
    "plt.plot(x_t, y_t, 'o', label='Train Data')\n",
    "plt.plot(x_t, M_class.model(M_class.X_train).data.numpy(),'ro', label='Predicted')\n",
    "plt.grid()\n",
    "plt.legend()\n",
    "plt.title('Model estimations vs. train data')\n",
    "plt.show()"
   ]
  },
  {
   "cell_type": "markdown",
   "id": "be8929ae-8be1-4830-9578-0c3b052311bc",
   "metadata": {},
   "source": [
    "**Loos-value, Iteration plot**"
   ]
  },
  {
   "cell_type": "code",
   "execution_count": 126,
   "id": "871ba80e-cecf-4957-a797-350dc6d886c7",
   "metadata": {},
   "outputs": [
    {
     "data": {
      "image/png": "[encoded data removed]",
      "text/plain": [
       "<Figure size 432x288 with 1 Axes>"
      ]
     },
     "metadata": {
      "needs_background": "light"
     },
     "output_type": "display_data"
    }
   ],
   "source": [
    "M_class = model_1_W4_no_bias\n",
    "\n",
    "plt.subplots(figsize=(6,4))\n",
    "plt.xlabel(\"Iterations\", fontsize = 18)\n",
    "plt.ylabel(\"Loss Values\", fontsize = 18)\n",
    "\n",
    "plt.title('Validation Data Generation --> Simg:0.5, seed=1 and sample-size=100')\n",
    "plt.plot(M_class.iterations, M_class.losses_values , '', label='Loss value ')\n",
    "plt.grid()\n",
    "plt.legend()\n",
    "plt.title('Loss value as function of training iterations',fontsize = 16)\n",
    "plt.show()"
   ]
  },
  {
   "cell_type": "markdown",
   "id": "25057ddd-05db-4c8f-b962-5268beb35445",
   "metadata": {},
   "source": [
    "# **Model 2: considering 4 entry elemnt for weights and input data without Bias**"
   ]
  },
  {
   "cell_type": "code",
   "execution_count": 127,
   "id": "dc27d0d7-ede6-4760-bb69-f5be01d9fc98",
   "metadata": {},
   "outputs": [],
   "source": [
    "model_ = nn.Linear(4,1, bias=True)\n",
    "Learning_Rate = 1e-3\n",
    "nr_itereration = 20000\n",
    "loss_rate_target = 1e-8\n",
    "loss_func  =  nn.MSELoss()\n",
    "optimizer  =  optim.SGD(model_.parameters(),  lr=Learning_Rate)\n",
    "\n",
    "X_train = X_train_w4\n",
    "Y_train = Y_train\n",
    "X_valid = X_val_w4\n",
    "Y_valid = Y_val\n",
    "\n",
    "model_2_W4_with_bias = Model_Training( model_, loss_func, optimizer, Learning_Rate, nr_itereration, X_train, Y_train, X_valid, Y_valid, loss_rate_target)"
   ]
  },
  {
   "cell_type": "code",
   "execution_count": 128,
   "id": "5221b33d-648a-44c0-92f6-06b9c4f399e3",
   "metadata": {},
   "outputs": [
    {
     "name": "stdout",
     "output_type": "stream",
     "text": [
      "nr_iter : 10  loss : 28.409805297851562\n",
      "nr_iter : 9305  loss : 0.20677684247493744\n",
      "------------------------------------\n",
      "In the nr_iter : 9305  the model optained a loos rate of : 0.0 which is minor than 1e-08\n"
     ]
    },
    {
     "data": {
      "text/plain": [
       "odict_items([('weight', tensor([[-3.9293, -4.0377,  2.0563,  1.0281]])), ('bias', tensor([-4.0677]))])"
      ]
     },
     "execution_count": 128,
     "metadata": {},
     "output_type": "execute_result"
    }
   ],
   "source": [
    "model_2_W4_with_bias.train()"
   ]
  },
  {
   "cell_type": "markdown",
   "id": "bf714bf7-2b71-478e-926c-3f8bd074b22e",
   "metadata": {},
   "source": [
    "**Validation of the model**"
   ]
  },
  {
   "cell_type": "code",
   "execution_count": 129,
   "id": "609a7c45-510a-4b35-b2ed-2662771e92b5",
   "metadata": {},
   "outputs": [
    {
     "name": "stdout",
     "output_type": "stream",
     "text": [
      "for Model 1 the loss value for training data is \u001b[1m + 0.20677657425403595 and the loss value for validation data is 0.19179794192314148\n"
     ]
    }
   ],
   "source": [
    "M_class = model_2_W4_with_bias\n",
    "\n",
    "y_pred_val = M_class.model(M_class.X_valid)\n",
    "y_pred_train = M_class.model(M_class.X_train)\n",
    "loss_of_validation = M_class.loss_func( y_pred_val, M_class.Y_valid )\n",
    "loss_of_training = M_class.loss_func( y_pred_train, M_class.Y_train )\n",
    "print('for Model 1 the loss value for training data is \\033[1m + {} and the loss value for validation data is {}'.format(loss_of_training,loss_of_validation))"
   ]
  },
  {
   "cell_type": "markdown",
   "id": "7e40436c-938d-4ffb-8f9f-d5911159cd86",
   "metadata": {},
   "source": [
    "# **Model 3: considering 3 entry elemnt for weights and input data with Bias**"
   ]
  },
  {
   "cell_type": "code",
   "execution_count": 130,
   "id": "fd9eecc0-dca8-4dde-a286-f9209c24e544",
   "metadata": {},
   "outputs": [],
   "source": [
    "model_ = nn.Linear(3,1, bias=True)\n",
    "Learning_Rate = 1e-3\n",
    "nr_itereration = 20000\n",
    "loss_rate_target = 1e-8\n",
    "loss_func  =  nn.MSELoss()\n",
    "optimizer  =  optim.SGD(model_.parameters(),  lr=Learning_Rate)\n",
    "\n",
    "X_train = X_train_w3\n",
    "Y_train = Y_train\n",
    "X_valid = X_val_w3\n",
    "Y_valid = Y_val\n",
    "\n",
    "model_3_W3_with_bias = Model_Training( model_, loss_func, optimizer, Learning_Rate, nr_itereration, X_train, Y_train, X_valid, Y_valid, loss_rate_target)"
   ]
  },
  {
   "cell_type": "code",
   "execution_count": 131,
   "id": "09ea12a6-282b-470f-ae8c-18e4dcdd9f08",
   "metadata": {},
   "outputs": [
    {
     "name": "stdout",
     "output_type": "stream",
     "text": [
      "nr_iter : 10  loss : 33.73591613769531\n",
      "nr_iter : 10978  loss : 0.20680691301822662\n",
      "------------------------------------\n",
      "In the nr_iter : 10978  the model optained a loos rate of : 0.0 which is minor than 1e-08\n"
     ]
    },
    {
     "data": {
      "text/plain": [
       "odict_items([('weight', tensor([[-4.0385,  2.0543,  1.0278]])), ('bias', tensor([-7.9912]))])"
      ]
     },
     "execution_count": 131,
     "metadata": {},
     "output_type": "execute_result"
    }
   ],
   "source": [
    "model_3_W3_with_bias.train()"
   ]
  },
  {
   "cell_type": "markdown",
   "id": "6e5441bb-6ad6-42f8-a6a6-04acdcc37175",
   "metadata": {},
   "source": [
    "**Validation of the model**"
   ]
  },
  {
   "cell_type": "code",
   "execution_count": 132,
   "id": "d44bf146-06d2-4e15-9132-7cf4c0e61540",
   "metadata": {},
   "outputs": [
    {
     "name": "stdout",
     "output_type": "stream",
     "text": [
      "for Model 1 the loss value for training data is \u001b[1m + 0.20680667459964752 and the loss value for validation data is 0.19225987792015076\n"
     ]
    }
   ],
   "source": [
    "M_class = model_3_W3_with_bias\n",
    "\n",
    "y_pred_val = M_class.model(M_class.X_valid)\n",
    "y_pred_train = M_class.model(M_class.X_train)\n",
    "loss_of_validation = M_class.loss_func( y_pred_val, M_class.Y_valid )\n",
    "loss_of_training = M_class.loss_func( y_pred_train, M_class.Y_train )\n",
    "print('for Model 1 the loss value for training data is \\033[1m + {} and the loss value for validation data is {}'.format(loss_of_training,loss_of_validation))"
   ]
  },
  {
   "cell_type": "markdown",
   "id": "6e1d395b-d68d-4d8a-b8bf-4e8311d2ce7e",
   "metadata": {
    "tags": []
   },
   "source": [
    "**Define the Model**"
   ]
  },
  {
   "cell_type": "markdown",
   "id": "aa29e27a-7ce7-4b5b-858b-6f6a5a41a8e4",
   "metadata": {},
   "source": [
    "# **Question 9: Training the model with the samples of 50, 10, 5**"
   ]
  },
  {
   "cell_type": "markdown",
   "id": "ecf03499-17be-425e-9c70-5fe851b01689",
   "metadata": {},
   "source": [
    "**Data sets generation**"
   ]
  },
  {
   "cell_type": "code",
   "execution_count": 133,
   "id": "be6d4e6e-54cb-4144-b13a-cac2f0aa3561",
   "metadata": {},
   "outputs": [],
   "source": [
    "seed=0\n",
    "sample_size_tr=50\n",
    "x_range=[-3,2]\n",
    "sigma=0.5\n",
    "W=np.array([-8,-4,2,1])\n",
    "\n",
    "X_t_50 , y_t_50 , x_t_50 , y_no_noise_t_50 = create_datasets(W,x_range,sample_size_tr,sigma,seed)"
   ]
  },
  {
   "cell_type": "code",
   "execution_count": 134,
   "id": "f41e22ad-096a-422b-b7e4-6cc5698cc8b9",
   "metadata": {},
   "outputs": [],
   "source": [
    "seed=0\n",
    "sample_size_tr=10\n",
    "x_range=[-3,2]\n",
    "sigma=0.5\n",
    "W=np.array([-8,-4,2,1])\n",
    "\n",
    "X_t_10 , y_t_10 , x_t_10 , y_no_noise_t_10 = create_datasets(W,x_range,sample_size_tr,sigma,seed)"
   ]
  },
  {
   "cell_type": "code",
   "execution_count": 135,
   "id": "d7cb3ce6-7104-4ecd-bbe5-0d9b08a3434f",
   "metadata": {},
   "outputs": [],
   "source": [
    "seed=0\n",
    "sample_size_tr=5\n",
    "x_range=[-3,2]\n",
    "sigma=0.5\n",
    "W=np.array([-8,-4,2,1])\n",
    "\n",
    "X_t_5 , y_t_5 , x_t_5 , y_no_noise_t_5 = create_datasets(W,x_range,sample_size_tr,sigma,seed)"
   ]
  },
  {
   "cell_type": "code",
   "execution_count": 136,
   "id": "0b59af2c-4850-4c01-90a8-c24aa15388b8",
   "metadata": {},
   "outputs": [],
   "source": [
    "X_train_50 = torch.from_numpy(X_t_50).float()\n",
    "X_train_10 = torch.from_numpy(X_t_10).float()\n",
    "X_train_5 = torch.from_numpy(X_t_5).float()\n",
    "\n",
    "Y_train_50 = torch.from_numpy(y_t_50.reshape((50 , 1))).float()\n",
    "Y_train_10 = torch.from_numpy(y_t_10.reshape((10 , 1))).float()\n",
    "Y_train_5 = torch.from_numpy(y_t_5.reshape((5 , 1))).float()\n"
   ]
  },
  {
   "cell_type": "markdown",
   "id": "486ce85e-6985-4c6f-a75b-8ef29e35d349",
   "metadata": {},
   "source": [
    "# **Training the model with the data sample of size 50**"
   ]
  },
  {
   "cell_type": "code",
   "execution_count": 137,
   "id": "5ad7379e-9f91-41b1-b47c-940f72f42557",
   "metadata": {},
   "outputs": [],
   "source": [
    "model_ = nn.Linear(4,1, bias=False)\n",
    "Learning_Rate = 1e-3\n",
    "nr_itereration = 20000\n",
    "loss_rate_target = 1e-8\n",
    "loss_func  =  nn.MSELoss()\n",
    "optimizer  =  optim.SGD(model_.parameters(),  lr=Learning_Rate)\n",
    "\n",
    "X_train = X_train_50\n",
    "Y_train = Y_train_50\n",
    "X_valid = X_val_w4\n",
    "Y_valid = Y_val\n",
    "\n",
    "model_W4_DS_50 = Model_Training( model_, loss_func, optimizer, Learning_Rate, nr_itereration, X_train, Y_train, X_valid, Y_valid, loss_rate_target)"
   ]
  },
  {
   "cell_type": "code",
   "execution_count": 138,
   "id": "7eb4ada9-1393-4d26-b40d-467b9d5b4a3d",
   "metadata": {},
   "outputs": [
    {
     "name": "stdout",
     "output_type": "stream",
     "text": [
      "nr_iter : 10  loss : 37.12452697753906\n",
      "nr_iter : 10522  loss : 0.19118940830230713\n",
      "------------------------------------\n",
      "In the nr_iter : 10522  the model optained a loos rate of : 0.0 which is minor than 1e-08\n"
     ]
    },
    {
     "data": {
      "text/plain": [
       "odict_items([('weight', tensor([[-7.7929, -3.9551,  1.8446,  0.9587]]))])"
      ]
     },
     "execution_count": 138,
     "metadata": {},
     "output_type": "execute_result"
    }
   ],
   "source": [
    "model_W4_DS_50.train()"
   ]
  },
  {
   "cell_type": "markdown",
   "id": "9551d54f-1010-4475-be1b-3295ae64b790",
   "metadata": {},
   "source": [
    "**Validation of the model**"
   ]
  },
  {
   "cell_type": "code",
   "execution_count": 139,
   "id": "06ab12e9-1c16-4686-a311-381a9e0b3fe7",
   "metadata": {},
   "outputs": [
    {
     "name": "stdout",
     "output_type": "stream",
     "text": [
      "for Model 1 the loss value for training data is \u001b[1m + 0.19118890166282654 and the loss value for validation data is 0.24908114969730377\n"
     ]
    }
   ],
   "source": [
    "M_class = model_W4_DS_50\n",
    "\n",
    "y_pred_val = M_class.model(M_class.X_valid)\n",
    "y_pred_train = M_class.model(M_class.X_train)\n",
    "loss_of_validation = M_class.loss_func( y_pred_val, M_class.Y_valid )\n",
    "loss_of_training = M_class.loss_func( y_pred_train, M_class.Y_train )\n",
    "print('for Model 1 the loss value for training data is \\033[1m + {} and the loss value for validation data is {}'.format(loss_of_training,loss_of_validation))"
   ]
  },
  {
   "cell_type": "code",
   "execution_count": 140,
   "id": "f12b7596-0b42-4acc-9ae1-1b8e92443ad3",
   "metadata": {},
   "outputs": [
    {
     "data": {
      "image/png": "[encoded data removed]",
      "text/plain": [
       "<Figure size 432x288 with 1 Axes>"
      ]
     },
     "metadata": {
      "needs_background": "light"
     },
     "output_type": "display_data"
    }
   ],
   "source": [
    "M_class = model_W4_DS_50\n",
    "\n",
    "plt.subplots(figsize=(6,4))\n",
    "plt.plot(x_t_50, y_t_50, 'o', label='Train Data')\n",
    "plt.plot(x_t_50, M_class.model(M_class.X_train).data.numpy(),'ro', label='Predicted')\n",
    "plt.grid()\n",
    "plt.legend()\n",
    "plt.title('Model estimated values vs. train data')\n",
    "plt.show()"
   ]
  },
  {
   "cell_type": "markdown",
   "id": "f4ebe01f-f296-4de6-836c-b5e5c830a38e",
   "metadata": {},
   "source": [
    "**Loos-value, Iteration plot**"
   ]
  },
  {
   "cell_type": "code",
   "execution_count": 141,
   "id": "4123cdeb-0dab-4b93-9eab-f3f7f04646b1",
   "metadata": {},
   "outputs": [
    {
     "data": {
      "image/png": "[encoded data removed]",
      "text/plain": [
       "<Figure size 432x288 with 1 Axes>"
      ]
     },
     "metadata": {
      "needs_background": "light"
     },
     "output_type": "display_data"
    }
   ],
   "source": [
    "M_class = model_W4_DS_50\n",
    "\n",
    "plt.subplots(figsize=(6,4))\n",
    "plt.xlabel(\"Iterations\", fontsize = 18)\n",
    "plt.ylabel(\"Loss Values\", fontsize = 18)\n",
    "\n",
    "plt.title('Validation Data Generation --> Simg:0.5, seed=1 and sample-size=100')\n",
    "plt.plot(M_class.iterations, M_class.losses_values , '', label='Loss value ')\n",
    "plt.grid()\n",
    "plt.legend()\n",
    "plt.title('Loss value as function of training iterations',fontsize = 16)\n",
    "plt.show()"
   ]
  },
  {
   "cell_type": "markdown",
   "id": "68312ba4-cf91-4303-ac49-55929df9f2d8",
   "metadata": {},
   "source": [
    "# **Training the model with the data sample of size 10**"
   ]
  },
  {
   "cell_type": "code",
   "execution_count": 142,
   "id": "0e5d4258-65a1-4364-a26b-a39652d9162f",
   "metadata": {},
   "outputs": [],
   "source": [
    "model_ = nn.Linear(4,1, bias=False)\n",
    "Learning_Rate = 1e-3\n",
    "nr_itereration = 50000\n",
    "loss_rate_target = 1e-8\n",
    "loss_func  =  nn.MSELoss()\n",
    "optimizer  =  optim.SGD(model_.parameters(),  lr=Learning_Rate)\n",
    "\n",
    "X_train = X_train_10\n",
    "Y_train = Y_train_10\n",
    "X_valid = X_val_w4\n",
    "Y_valid = Y_val\n",
    "\n",
    "model_W4_DS_10 = Model_Training( model_, loss_func, optimizer, Learning_Rate, nr_itereration, X_train, Y_train, X_valid, Y_valid, loss_rate_target)"
   ]
  },
  {
   "cell_type": "code",
   "execution_count": 143,
   "id": "6fc53c2a-9f0f-42ea-95da-5e7880ab6a6a",
   "metadata": {},
   "outputs": [
    {
     "name": "stdout",
     "output_type": "stream",
     "text": [
      "nr_iter : 10  loss : 40.18901062011719\n",
      "nr_iter : 20968  loss : 0.384787380695343\n",
      "------------------------------------\n",
      "In the nr_iter : 20968  the model optained a loos rate of : 0.0 which is minor than 1e-08\n"
     ]
    },
    {
     "data": {
      "text/plain": [
       "odict_items([('weight', tensor([[-7.8603, -4.6559,  1.7359,  1.4406]]))])"
      ]
     },
     "execution_count": 143,
     "metadata": {},
     "output_type": "execute_result"
    }
   ],
   "source": [
    "model_W4_DS_10.train()"
   ]
  },
  {
   "cell_type": "markdown",
   "id": "e015a27d-8225-4043-a1a6-f2bd85b503b7",
   "metadata": {},
   "source": [
    "**Validation of the model**"
   ]
  },
  {
   "cell_type": "code",
   "execution_count": 144,
   "id": "039f4edf-d3a4-4b21-ad19-f6ec537c52d8",
   "metadata": {},
   "outputs": [
    {
     "name": "stdout",
     "output_type": "stream",
     "text": [
      "for Model 1 the loss value for training data is \u001b[1m + 0.3847866654396057 and the loss value for validation data is 14.312583923339844\n"
     ]
    }
   ],
   "source": [
    "M_class = model_W4_DS_10\n",
    "\n",
    "y_pred_val = M_class.model(M_class.X_valid)\n",
    "y_pred_train = M_class.model(M_class.X_train)\n",
    "loss_of_validation = M_class.loss_func( y_pred_val, M_class.Y_valid )\n",
    "loss_of_training = M_class.loss_func( y_pred_train, M_class.Y_train )\n",
    "print('for Model 1 the loss value for training data is \\033[1m + {} and the loss value for validation data is {}'.format(loss_of_training,loss_of_validation))"
   ]
  },
  {
   "cell_type": "code",
   "execution_count": 145,
   "id": "64718300-b79d-48d2-a425-d815ba984b85",
   "metadata": {},
   "outputs": [
    {
     "data": {
      "image/png": "[encoded data removed]",
      "text/plain": [
       "<Figure size 432x288 with 1 Axes>"
      ]
     },
     "metadata": {
      "needs_background": "light"
     },
     "output_type": "display_data"
    }
   ],
   "source": [
    "M_class = model_W4_DS_10\n",
    "\n",
    "plt.subplots(figsize=(6,4))\n",
    "plt.plot(x_t_10, y_t_10, 'o', label='Train Data')\n",
    "plt.plot(x_t_10, M_class.model(M_class.X_train).data.numpy(),'ro', label='Predicted')\n",
    "sn.lineplot(x_t_10, y_t_10, color='blue', linewidth=2.5,legend='auto')\n",
    "sn.lineplot(x_t_10, np.array(M_class.model(M_class.X_train).data).flatten(), color='red')\n",
    "plt.grid()\n",
    "plt.legend()\n",
    "plt.title('Model estimated values vs. train data')\n",
    "plt.show()"
   ]
  },
  {
   "cell_type": "markdown",
   "id": "af9a8784-44f9-460a-9e3e-476d21880891",
   "metadata": {},
   "source": [
    "# **Training the model with the data sample of size 5**"
   ]
  },
  {
   "cell_type": "code",
   "execution_count": 146,
   "id": "81648361-aba9-4e3c-80a8-a7ca5cf3ccb8",
   "metadata": {},
   "outputs": [],
   "source": [
    "model_ = nn.Linear(4,1, bias=False)\n",
    "Learning_Rate = 1e-3\n",
    "nr_itereration = 20000\n",
    "loss_rate_target = 1e-8\n",
    "loss_func  =  nn.MSELoss()\n",
    "optimizer  =  optim.SGD(model_.parameters(),  lr=Learning_Rate)\n",
    "\n",
    "X_train = X_train_5\n",
    "Y_train = Y_train_5\n",
    "X_valid = X_val_w4\n",
    "Y_valid = Y_val\n",
    "\n",
    "model_W4_DS_5 = Model_Training( model_, loss_func, optimizer, Learning_Rate, nr_itereration, X_train, Y_train, X_valid, Y_valid, loss_rate_target)"
   ]
  },
  {
   "cell_type": "code",
   "execution_count": 147,
   "id": "09849468-bfdd-4a30-b691-811682064135",
   "metadata": {},
   "outputs": [
    {
     "name": "stdout",
     "output_type": "stream",
     "text": [
      "nr_iter : 10  loss : 52.09187698364258\n",
      "nr_iter : 9374  loss : 0.09403707087039948\n",
      "------------------------------------\n",
      "In the nr_iter : 9374  the model optained a loos rate of : 0.0 which is minor than 1e-08\n"
     ]
    },
    {
     "data": {
      "text/plain": [
       "odict_items([('weight', tensor([[-7.3583, -3.1723,  0.2252, -1.5225]]))])"
      ]
     },
     "execution_count": 147,
     "metadata": {},
     "output_type": "execute_result"
    }
   ],
   "source": [
    "model_W4_DS_5.train()"
   ]
  },
  {
   "cell_type": "markdown",
   "id": "56f28dc0-a284-49c7-be4d-3c0c25ca57fe",
   "metadata": {},
   "source": [
    "**Validation of the model**"
   ]
  },
  {
   "cell_type": "code",
   "execution_count": 148,
   "id": "3a77edfd-5a9a-48a2-b67b-011e839f3b9d",
   "metadata": {},
   "outputs": [
    {
     "name": "stdout",
     "output_type": "stream",
     "text": [
      "for Model 1 the loss value for training data is \u001b[1m + 0.094036765396595 and the loss value for validation data is 267.8866271972656\n"
     ]
    }
   ],
   "source": [
    "M_class = model_W4_DS_5\n",
    "\n",
    "y_pred_val = M_class.model(M_class.X_valid)\n",
    "y_pred_train = M_class.model(M_class.X_train)\n",
    "loss_of_validation = M_class.loss_func( y_pred_val, M_class.Y_valid )\n",
    "loss_of_training = M_class.loss_func( y_pred_train, M_class.Y_train )\n",
    "print('for Model 1 the loss value for training data is \\033[1m + {} and the loss value for validation data is {}'.format(loss_of_training,loss_of_validation))"
   ]
  },
  {
   "cell_type": "code",
   "execution_count": 149,
   "id": "b15aa3ae-ea5a-459e-bccf-a297fc31f87c",
   "metadata": {},
   "outputs": [
    {
     "data": {
      "image/png": "[encoded data removed]",
      "text/plain": [
       "<Figure size 432x288 with 1 Axes>"
      ]
     },
     "metadata": {
      "needs_background": "light"
     },
     "output_type": "display_data"
    }
   ],
   "source": [
    "M_class = model_W4_DS_5\n",
    "\n",
    "plt.subplots(figsize=(6,4))\n",
    "plt.plot(x_t_5, y_t_5, 'o', label='Train Data')\n",
    "plt.plot(x_t_5, M_class.model(M_class.X_train).data.numpy(),'ro', label='Predicted')\n",
    "sn.lineplot(x_t_5, y_t_5, color='blue', linewidth=2.5,legend='auto')\n",
    "sn.lineplot(x_t_5, np.array(M_class.model(M_class.X_train).data).flatten(), color='red')\n",
    "plt.grid()\n",
    "plt.legend()\n",
    "plt.title('Model estimated values vs. train data')\n",
    "plt.show()"
   ]
  },
  {
   "cell_type": "markdown",
   "id": "50a794e2-c281-4277-9554-56dcac6c80fb",
   "metadata": {},
   "source": [
    "# **Question 10: Training the model with data samples generated by sigma: 2, 4 , 8**"
   ]
  },
  {
   "cell_type": "markdown",
   "id": "f125c6a5-b1f9-44f1-b1ba-0a27892cf151",
   "metadata": {},
   "source": [
    "**Data sets generation**"
   ]
  },
  {
   "cell_type": "code",
   "execution_count": 150,
   "id": "c3472c96-8e3f-404b-9ab2-b7a1772730ec",
   "metadata": {},
   "outputs": [],
   "source": [
    "seed=0\n",
    "sample_size_tr=100\n",
    "x_range=[-3,2]\n",
    "sigma=2\n",
    "W=np.array([-8,-4,2,1])\n",
    "\n",
    "X_t_s2 , y_t_s2 , x_t_s2 , y_no_noise_t_s2 = create_datasets(W,x_range,sample_size_tr,sigma,seed)"
   ]
  },
  {
   "cell_type": "code",
   "execution_count": 151,
   "id": "8d5798b9-2cb1-49a3-b1df-d2964ee209fe",
   "metadata": {},
   "outputs": [],
   "source": [
    "seed=0\n",
    "sample_size_tr=100\n",
    "x_range=[-3,2]\n",
    "sigma=4\n",
    "W=np.array([-8,-4,2,1])\n",
    "\n",
    "X_t_s4 , y_t_s4 , x_t_s4 , y_no_noise_t_s4 = create_datasets(W,x_range,sample_size_tr,sigma,seed)"
   ]
  },
  {
   "cell_type": "code",
   "execution_count": 152,
   "id": "8b1baf4f-8775-490a-9fa5-b2b09b1bdd7f",
   "metadata": {},
   "outputs": [],
   "source": [
    "seed=0\n",
    "sample_size_tr=100\n",
    "x_range=[-3,2]\n",
    "sigma=8\n",
    "W=np.array([-8,-4,2,1])\n",
    "\n",
    "X_t_s8 , y_t_s8 , x_t_s8 , y_no_noise_t_s8 = create_datasets(W,x_range,sample_size_tr,sigma,seed)"
   ]
  },
  {
   "cell_type": "code",
   "execution_count": 153,
   "id": "98772d12-0ee1-43bb-a3ce-6e72c23d5e0e",
   "metadata": {},
   "outputs": [],
   "source": [
    "X_train_s2 = torch.from_numpy(X_t_s2).float()\n",
    "X_train_s4 = torch.from_numpy(X_t_s4).float()\n",
    "X_train_s8 = torch.from_numpy(X_t_s8).float()\n",
    "\n",
    "Y_train_s2 = torch.from_numpy(y_t_s2.reshape((100 , 1))).float()\n",
    "Y_train_s4 = torch.from_numpy(y_t_s4.reshape((100 , 1))).float()\n",
    "Y_train_s8 = torch.from_numpy(y_t_s8.reshape((100 , 1))).float()\n"
   ]
  },
  {
   "cell_type": "markdown",
   "id": "963820f5-c1ae-4179-b139-c0bca50764e4",
   "metadata": {},
   "source": [
    "# **Training the model with the data sample of sigma = 2**"
   ]
  },
  {
   "cell_type": "code",
   "execution_count": 154,
   "id": "d5a3c183-78ae-44c7-a01c-61b85f754f96",
   "metadata": {},
   "outputs": [],
   "source": [
    "model_ = nn.Linear(4,1, bias=False)\n",
    "Learning_Rate = 1e-3\n",
    "nr_itereration = 20000\n",
    "loss_rate_target = 1e-8\n",
    "loss_func  =  nn.MSELoss()\n",
    "optimizer  =  optim.SGD(model_.parameters(),  lr=Learning_Rate)\n",
    "\n",
    "X_train = X_train_s2\n",
    "Y_train = Y_train_s2\n",
    "X_valid = X_val_w4\n",
    "Y_valid = Y_val\n",
    "\n",
    "model_W4_DS_s2 = Model_Training( model_, loss_func, optimizer, Learning_Rate, nr_itereration, X_train, Y_train, X_valid, Y_valid, loss_rate_target)"
   ]
  },
  {
   "cell_type": "code",
   "execution_count": 155,
   "id": "29713e63-4519-4d8e-be85-6863c5f0b895",
   "metadata": {},
   "outputs": [
    {
     "name": "stdout",
     "output_type": "stream",
     "text": [
      "nr_iter : 10  loss : 39.754127502441406\n",
      "nr_iter : 9389  loss : 3.3077516555786133\n",
      "------------------------------------\n",
      "In the nr_iter : 9389  the model optained a loos rate of : 0.0 which is minor than 1e-08\n"
     ]
    },
    {
     "data": {
      "text/plain": [
       "odict_items([('weight', tensor([[-7.9838, -4.1740,  2.2267,  1.1168]]))])"
      ]
     },
     "execution_count": 155,
     "metadata": {},
     "output_type": "execute_result"
    }
   ],
   "source": [
    "model_W4_DS_s2.train()"
   ]
  },
  {
   "cell_type": "markdown",
   "id": "8853d41b-d699-455a-b60e-3d2dd8e536d1",
   "metadata": {},
   "source": [
    "**Validation of the model**"
   ]
  },
  {
   "cell_type": "code",
   "execution_count": 156,
   "id": "4829837c-0fa5-4a76-a2a1-66db7086ed19",
   "metadata": {},
   "outputs": [
    {
     "name": "stdout",
     "output_type": "stream",
     "text": [
      "for Model 1 the loss value for training data is \u001b[1m + 3.3077499866485596 and the loss value for validation data is 0.33012256026268005\n"
     ]
    }
   ],
   "source": [
    "M_class = model_W4_DS_s2\n",
    "\n",
    "y_pred_val = M_class.model(M_class.X_valid)\n",
    "y_pred_train = M_class.model(M_class.X_train)\n",
    "loss_of_validation = M_class.loss_func( y_pred_val, M_class.Y_valid )\n",
    "loss_of_training = M_class.loss_func( y_pred_train, M_class.Y_train )\n",
    "print('for Model 1 the loss value for training data is \\033[1m + {} and the loss value for validation data is {}'.format(loss_of_training,loss_of_validation))"
   ]
  },
  {
   "cell_type": "code",
   "execution_count": 157,
   "id": "1ede3d23-e5a7-45cb-af6b-029ac5274769",
   "metadata": {},
   "outputs": [
    {
     "data": {
      "image/png": "[encoded data removed]",
      "text/plain": [
       "<Figure size 432x288 with 1 Axes>"
      ]
     },
     "metadata": {
      "needs_background": "light"
     },
     "output_type": "display_data"
    }
   ],
   "source": [
    "M_class = model_W4_DS_s2\n",
    "\n",
    "plt.subplots(figsize=(6,4))\n",
    "plt.plot(x_t_s2, y_t_s2, 'o', label='Train Data')\n",
    "plt.plot(x_t_s2, M_class.model(M_class.X_train).data.numpy(),'ro', label='Predicted')\n",
    "plt.grid()\n",
    "plt.legend()\n",
    "plt.title('Model estimated values vs. train data')\n",
    "plt.show()"
   ]
  },
  {
   "cell_type": "markdown",
   "id": "e138cb4f-4d70-4639-bf8b-dde152587aa6",
   "metadata": {},
   "source": [
    "**Loos-value, Iteration plot**"
   ]
  },
  {
   "cell_type": "code",
   "execution_count": 158,
   "id": "ebff5b6a-23fd-49dd-a88b-157893f1dee8",
   "metadata": {},
   "outputs": [
    {
     "data": {
      "image/png": "[encoded data removed]",
      "text/plain": [
       "<Figure size 432x288 with 1 Axes>"
      ]
     },
     "metadata": {
      "needs_background": "light"
     },
     "output_type": "display_data"
    }
   ],
   "source": [
    "M_class = model_W4_DS_s2\n",
    "\n",
    "plt.subplots(figsize=(6,4))\n",
    "plt.xlabel(\"Iterations\", fontsize = 18)\n",
    "plt.ylabel(\"Loss Values\", fontsize = 18)\n",
    "\n",
    "plt.title('Validation Data Generation --> Simg:0.5, seed=1 and sample-size=100')\n",
    "plt.plot(M_class.iterations, M_class.losses_values , '', label='Loss value ')\n",
    "plt.grid()\n",
    "plt.legend()\n",
    "plt.title('Loss value as function of training iterations',fontsize = 16)\n",
    "plt.show()"
   ]
  },
  {
   "cell_type": "markdown",
   "id": "5914435e-fff0-4c48-aa73-b63a9ff4de54",
   "metadata": {},
   "source": [
    "# **Training the model with the data sample of sigma = 4**"
   ]
  },
  {
   "cell_type": "code",
   "execution_count": 159,
   "id": "2402bfda-4a8d-4584-8f77-4920e94c0152",
   "metadata": {},
   "outputs": [],
   "source": [
    "model_ = nn.Linear(4,1, bias=False)\n",
    "Learning_Rate = 1e-3\n",
    "nr_itereration = 20000\n",
    "loss_rate_target = 1e-8\n",
    "loss_func  =  nn.MSELoss()\n",
    "optimizer  =  optim.SGD(model_.parameters(),  lr=Learning_Rate)\n",
    "\n",
    "X_train = X_train_s4\n",
    "Y_train = Y_train_s4\n",
    "X_valid = X_val_w4\n",
    "Y_valid = Y_val\n",
    "\n",
    "model_W4_DS_s4 = Model_Training( model_, loss_func, optimizer, Learning_Rate, nr_itereration, X_train, Y_train, X_valid, Y_valid, loss_rate_target)"
   ]
  },
  {
   "cell_type": "code",
   "execution_count": 160,
   "id": "c4ee1b5d-5183-4af0-8464-e819a098c290",
   "metadata": {},
   "outputs": [
    {
     "name": "stdout",
     "output_type": "stream",
     "text": [
      "nr_iter : 10  loss : 43.45909118652344\n",
      "nr_iter : 8105  loss : 13.230720520019531\n",
      "------------------------------------\n",
      "In the nr_iter : 8105  the model optained a loos rate of : 0.0 which is minor than 1e-08\n"
     ]
    },
    {
     "data": {
      "text/plain": [
       "odict_items([('weight', tensor([[-7.9703, -4.3514,  2.4549,  1.2346]]))])"
      ]
     },
     "execution_count": 160,
     "metadata": {},
     "output_type": "execute_result"
    }
   ],
   "source": [
    "model_W4_DS_s4.train()"
   ]
  },
  {
   "cell_type": "markdown",
   "id": "fdaf333b-1bf6-4283-81e6-f23aafabbfed",
   "metadata": {},
   "source": [
    "**Validation of the model**"
   ]
  },
  {
   "cell_type": "code",
   "execution_count": 161,
   "id": "86752dd8-1c7c-4b55-a4ef-e0719e77a21c",
   "metadata": {},
   "outputs": [
    {
     "name": "stdout",
     "output_type": "stream",
     "text": [
      "for Model 1 the loss value for training data is \u001b[1m + 13.23071575164795 and the loss value for validation data is 0.8160218596458435\n"
     ]
    }
   ],
   "source": [
    "M_class = model_W4_DS_s4\n",
    "\n",
    "y_pred_val = M_class.model(M_class.X_valid)\n",
    "y_pred_train = M_class.model(M_class.X_train)\n",
    "loss_of_validation = M_class.loss_func( y_pred_val, M_class.Y_valid )\n",
    "loss_of_training = M_class.loss_func( y_pred_train, M_class.Y_train )\n",
    "print('for Model 1 the loss value for training data is \\033[1m + {} and the loss value for validation data is {}'.format(loss_of_training,loss_of_validation))"
   ]
  },
  {
   "cell_type": "code",
   "execution_count": 162,
   "id": "f30564c7-b1b1-45f5-b3ca-1a26dfeb1f8f",
   "metadata": {},
   "outputs": [
    {
     "data": {
      "image/png": "[encoded data removed]",
      "text/plain": [
       "<Figure size 432x288 with 1 Axes>"
      ]
     },
     "metadata": {
      "needs_background": "light"
     },
     "output_type": "display_data"
    }
   ],
   "source": [
    "M_class = model_W4_DS_s4\n",
    "\n",
    "plt.subplots(figsize=(6,4))\n",
    "plt.plot(x_t_s4, y_t_s4, 'o', label='Train Data')\n",
    "plt.plot(x_t_s4, M_class.model(M_class.X_train).data.numpy(),'ro', label='Predicted')\n",
    "plt.grid()\n",
    "plt.legend()\n",
    "plt.title('Model estimated values vs. train data')\n",
    "plt.show()"
   ]
  },
  {
   "cell_type": "markdown",
   "id": "f33f8af2-c9df-4bbd-b09e-267e72896008",
   "metadata": {},
   "source": [
    "# **Training the model with the data sample of sigma = 8**"
   ]
  },
  {
   "cell_type": "code",
   "execution_count": 163,
   "id": "809ca8c8-5225-478c-a369-de49e9fe1ef9",
   "metadata": {},
   "outputs": [],
   "source": [
    "model_ = nn.Linear(4,1, bias=False)\n",
    "Learning_Rate = 1e-3\n",
    "nr_itereration = 20000\n",
    "loss_rate_target = 1e-8\n",
    "loss_func  =  nn.MSELoss()\n",
    "optimizer  =  optim.SGD(model_.parameters(),  lr=Learning_Rate)\n",
    "\n",
    "X_train = X_train_s8\n",
    "Y_train = Y_train_s8\n",
    "X_valid = X_val_w4\n",
    "Y_valid = Y_val\n",
    "\n",
    "model_W4_DS_s8 = Model_Training( model_, loss_func, optimizer, Learning_Rate, nr_itereration, X_train, Y_train, X_valid, Y_valid, loss_rate_target)"
   ]
  },
  {
   "cell_type": "code",
   "execution_count": 164,
   "id": "aac87eb3-ccbc-4c49-9bb1-143a40e78a8a",
   "metadata": {},
   "outputs": [
    {
     "name": "stdout",
     "output_type": "stream",
     "text": [
      "nr_iter : 10  loss : 81.72650146484375\n",
      "nr_iter : 7166  loss : 52.92034149169922\n",
      "------------------------------------\n",
      "In the nr_iter : 7166  the model optained a loos rate of : 0.0 which is minor than 1e-08\n"
     ]
    },
    {
     "data": {
      "text/plain": [
       "odict_items([('weight', tensor([[-7.9549, -4.7182,  2.9169,  1.4734]]))])"
      ]
     },
     "execution_count": 164,
     "metadata": {},
     "output_type": "execute_result"
    }
   ],
   "source": [
    "model_W4_DS_s8.train()"
   ]
  },
  {
   "cell_type": "markdown",
   "id": "9d319200-31a6-495b-802b-ccc9cc9db38a",
   "metadata": {},
   "source": [
    "**Validation of the model**"
   ]
  },
  {
   "cell_type": "code",
   "execution_count": 165,
   "id": "fa25a942-936d-46fc-85ff-4e51fbf8f98c",
   "metadata": {},
   "outputs": [
    {
     "name": "stdout",
     "output_type": "stream",
     "text": [
      "for Model 1 the loss value for training data is \u001b[1m + 52.92032241821289 and the loss value for validation data is 2.8252859115600586\n"
     ]
    }
   ],
   "source": [
    "M_class = model_W4_DS_s8\n",
    "\n",
    "y_pred_val = M_class.model(M_class.X_valid)\n",
    "y_pred_train = M_class.model(M_class.X_train)\n",
    "loss_of_validation = M_class.loss_func( y_pred_val, M_class.Y_valid )\n",
    "loss_of_training = M_class.loss_func( y_pred_train, M_class.Y_train )\n",
    "print('for Model 1 the loss value for training data is \\033[1m + {} and the loss value for validation data is {}'.format(loss_of_training,loss_of_validation))"
   ]
  },
  {
   "cell_type": "code",
   "execution_count": 166,
   "id": "06015c7e-5b1d-4ea1-b212-176d91824d88",
   "metadata": {},
   "outputs": [
    {
     "data": {
      "image/png": "[encoded data removed]",
      "text/plain": [
       "<Figure size 432x288 with 1 Axes>"
      ]
     },
     "metadata": {
      "needs_background": "light"
     },
     "output_type": "display_data"
    }
   ],
   "source": [
    "M_class = model_W4_DS_s8\n",
    "\n",
    "plt.subplots(figsize=(6,4))\n",
    "plt.plot(x_t_s8, y_t_s8, 'o', label='Train Data')\n",
    "plt.plot(x_t_s8, M_class.model(M_class.X_train).data.numpy(),'ro', label='Predicted')\n",
    "plt.grid()\n",
    "plt.legend()\n",
    "plt.title('Model estimated values vs. train data')\n",
    "plt.show()"
   ]
  },
  {
   "cell_type": "markdown",
   "id": "38ddef01-bc9d-417e-97ef-c1e2f6624325",
   "metadata": {},
   "source": [
    "# **Question 11 (Bonus): Training the model with data samples generated by sigma: 2, 4 , 8**"
   ]
  },
  {
   "cell_type": "markdown",
   "id": "cb5c8eea-baf4-46be-9697-4108d11def03",
   "metadata": {},
   "source": [
    "# **Define a model of polynomial degree 4 (W:5) and train the model with the data sample of size 10**"
   ]
  },
  {
   "cell_type": "markdown",
   "id": "3141acc6-0e1b-4da0-bc83-4a7b615a1767",
   "metadata": {},
   "source": [
    "**5 dimention Data Set generation ( with 10 samples)**"
   ]
  },
  {
   "cell_type": "code",
   "execution_count": 167,
   "id": "a3215e55-0f8f-4e6c-a26b-1d0bae723aef",
   "metadata": {},
   "outputs": [],
   "source": [
    "seed=0\n",
    "sample_size_tr=10\n",
    "x_range=[-3,2]\n",
    "sigma=0.5\n",
    "W=np.array([-8,-4,2,1,0])\n",
    "\n",
    "X_t_w5_s10 , y_t_w5_s10 , x_t_w5_s10 , y_no_noise_w5_s10 = create_datasets(W,x_range,sample_size_tr,sigma,seed)"
   ]
  },
  {
   "cell_type": "code",
   "execution_count": 168,
   "id": "46aade84-73b9-4378-a4d1-eb8cc8f3f5f0",
   "metadata": {},
   "outputs": [],
   "source": [
    "seed=1\n",
    "sample_size_tr=100\n",
    "x_range=[-3,2]\n",
    "sigma=0.5\n",
    "W=np.array([-8,-4,2,1,0])\n",
    "\n",
    "X_v_w5 , y_v_w5 , x_v_w5 , y_no_noise_w5 = create_datasets(W,x_range,sample_size_tr,sigma,seed)"
   ]
  },
  {
   "cell_type": "code",
   "execution_count": 169,
   "id": "885b9f2d-e6be-48fe-ab37-3f1ecaefe568",
   "metadata": {},
   "outputs": [],
   "source": [
    "X_train_w5_s10 = torch.from_numpy(X_t_w5_s10).float()\n",
    "Y_train_10 = torch.from_numpy(y_t_w5_s10.reshape((10 , 1))).float()\n",
    "\n",
    "X_valid_w5 = torch.from_numpy(X_v_w5).float()\n",
    "Y_valid_w5 = torch.from_numpy(y_v_w5.reshape((100 , 1))).float()\n"
   ]
  },
  {
   "cell_type": "code",
   "execution_count": 170,
   "id": "6e736979-c522-4157-8056-514f3306204a",
   "metadata": {},
   "outputs": [],
   "source": [
    "model_ = nn.Linear(5,1, bias=False)\n",
    "Learning_Rate = 1e-3\n",
    "nr_itereration = 50000\n",
    "loss_rate_target = 1e-8\n",
    "loss_func  =  nn.MSELoss()\n",
    "optimizer  =  optim.SGD(model_.parameters(),  lr=Learning_Rate)\n",
    "\n",
    "X_train = X_train_w5_s10\n",
    "Y_train = Y_train_10\n",
    "X_valid = X_valid_w5\n",
    "Y_valid = Y_valid_w5\n",
    "\n",
    "model_W5_DS_10 = Model_Training( model_, loss_func, optimizer, Learning_Rate, nr_itereration, X_train, Y_train, X_valid, Y_valid, loss_rate_target)"
   ]
  },
  {
   "cell_type": "code",
   "execution_count": 171,
   "id": "761b44f9-76ce-451c-bb4b-41c1221e48f7",
   "metadata": {},
   "outputs": [
    {
     "name": "stdout",
     "output_type": "stream",
     "text": [
      "nr_iter : 10  loss : 35.098724365234375\n",
      "nr_iter : 38552  loss : 0.30217689275741577\n",
      "------------------------------------\n",
      "In the nr_iter : 38552  the model optained a loos rate of : 0.0 which is minor than 1e-08\n"
     ]
    },
    {
     "data": {
      "text/plain": [
       "odict_items([('weight', tensor([[-7.6588, -3.7173,  0.4966,  0.2684,  0.8806]]))])"
      ]
     },
     "execution_count": 171,
     "metadata": {},
     "output_type": "execute_result"
    }
   ],
   "source": [
    "model_W5_DS_10.train()"
   ]
  },
  {
   "cell_type": "markdown",
   "id": "c7d771d6-ed33-4793-82e8-0e8e7dfc3430",
   "metadata": {},
   "source": [
    "**Validation of the model**"
   ]
  },
  {
   "cell_type": "code",
   "execution_count": 172,
   "id": "2e96414a-bb67-40f0-a5b1-c04381462b8f",
   "metadata": {},
   "outputs": [
    {
     "name": "stdout",
     "output_type": "stream",
     "text": [
      "for Model 1 the loss value for training data is \u001b[1m + 0.3021765351295471 and the loss value for validation data is 475.9212646484375\n"
     ]
    }
   ],
   "source": [
    "M_class = model_W5_DS_10\n",
    "\n",
    "y_pred_val = M_class.model(M_class.X_valid)\n",
    "y_pred_train = M_class.model(M_class.X_train)\n",
    "loss_of_validation = M_class.loss_func( y_pred_val, M_class.Y_valid )\n",
    "loss_of_training = M_class.loss_func( y_pred_train, M_class.Y_train )\n",
    "print('for Model 1 the loss value for training data is \\033[1m + {} and the loss value for validation data is {}'.format(loss_of_training,loss_of_validation))"
   ]
  },
  {
   "cell_type": "code",
   "execution_count": 173,
   "id": "577abced-078c-45a5-8b76-65f262f57d47",
   "metadata": {},
   "outputs": [
    {
     "data": {
      "image/png": "[encoded data removed]",
      "text/plain": [
       "<Figure size 432x288 with 1 Axes>"
      ]
     },
     "metadata": {
      "needs_background": "light"
     },
     "output_type": "display_data"
    }
   ],
   "source": [
    "M_class = model_W5_DS_10\n",
    "\n",
    "plt.subplots(figsize=(6,4))\n",
    "plt.plot(x_t_w5_s10, y_t_w5_s10, 'o', label='Train Data')\n",
    "plt.plot(x_t_w5_s10, M_class.model(M_class.X_train).data.numpy(),'ro', label='Predicted')\n",
    "sn.lineplot(x_t_w5_s10, y_t_w5_s10, color='blue', linewidth=2.5,legend='auto')\n",
    "sn.lineplot(x_t_w5_s10, np.array(M_class.model(M_class.X_train).data).flatten(), color='red')\n",
    "plt.grid()\n",
    "plt.grid()\n",
    "plt.legend()\n",
    "plt.title('Model estimated values vs. train data')\n",
    "plt.show()"
   ]
  },
  {
   "cell_type": "markdown",
   "id": "9f199dde-3b16-4ab9-8826-6b78eca4c3da",
   "metadata": {},
   "source": [
    "**Loos-value, Iteration plot**"
   ]
  },
  {
   "cell_type": "code",
   "execution_count": 174,
   "id": "4fb2d0d6-d479-4043-abed-f000f0e0814e",
   "metadata": {},
   "outputs": [
    {
     "data": {
      "image/png": "[encoded data removed]",
      "text/plain": [
       "<Figure size 432x288 with 1 Axes>"
      ]
     },
     "metadata": {
      "needs_background": "light"
     },
     "output_type": "display_data"
    }
   ],
   "source": [
    "M_class = model_W5_DS_10\n",
    "\n",
    "plt.subplots(figsize=(6,4))\n",
    "plt.xlabel(\"Iterations\", fontsize = 18)\n",
    "plt.ylabel(\"Loss Values\", fontsize = 18)\n",
    "\n",
    "plt.title('Validation Data Generation --> Simg:0.5, seed=1 and sample-size=100')\n",
    "plt.plot(M_class.iterations, M_class.losses_values , '', label='Loss value ')\n",
    "plt.grid()\n",
    "plt.legend()\n",
    "plt.title('Loss value as function of training iterations',fontsize = 16)\n",
    "plt.show()"
   ]
  }
 ],
 "metadata": {
  "kernelspec": {
   "display_name": "Python 3 (ipykernel)",
   "language": "python",
   "name": "python3"
  },
  "language_info": {
   "codemirror_mode": {
    "name": "ipython",
    "version": 3
   },
   "file_extension": ".py",
   "mimetype": "text/x-python",
   "name": "python",
   "nbconvert_exporter": "python",
   "pygments_lexer": "ipython3",
   "version": "3.8.12"
  }
 },
 "nbformat": 4,
 "nbformat_minor": 5
}
